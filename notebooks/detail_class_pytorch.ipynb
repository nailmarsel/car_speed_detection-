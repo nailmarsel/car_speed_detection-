{
 "cells": [
  {
   "cell_type": "code",
   "execution_count": 1,
   "metadata": {},
   "outputs": [
    {
     "ename": "ModuleNotFoundError",
     "evalue": "No module named 'pycocotools'",
     "output_type": "error",
     "traceback": [
      "\u001b[0;31m---------------------------------------------------------------------------\u001b[0m",
      "\u001b[0;31mModuleNotFoundError\u001b[0m                       Traceback (most recent call last)",
      "Cell \u001b[0;32mIn[1], line 1\u001b[0m\n\u001b[0;32m----> 1\u001b[0m \u001b[38;5;28;01mfrom\u001b[39;00m \u001b[38;5;21;01mpycocotools\u001b[39;00m\u001b[38;5;21;01m.\u001b[39;00m\u001b[38;5;21;01mcoco\u001b[39;00m \u001b[38;5;28;01mimport\u001b[39;00m COCO\n\u001b[1;32m      2\u001b[0m \u001b[38;5;28;01mimport\u001b[39;00m \u001b[38;5;21;01mrequests\u001b[39;00m\n\u001b[1;32m      4\u001b[0m \u001b[38;5;66;03m# instantiate COCO specifying the annotations json path\u001b[39;00m\n",
      "\u001b[0;31mModuleNotFoundError\u001b[0m: No module named 'pycocotools'"
     ]
    }
   ],
   "source": [
    "from pycocotools.coco import COCO\n",
    "import requests\n",
    "\n",
    "# instantiate COCO specifying the annotations json path\n",
    "coco = COCO('/home/asr/projects/mobile_net_IH/data/annotations/instances_train2017.json')\n",
    "# Specify a list of category names of interest\n",
    "catIds = coco.getCatIds(catNms=['bus'])\n",
    "# Get the corresponding image ids and images using loadImgs\n",
    "imgIds = coco.getImgIds(catIds=catIds)\n",
    "images = coco.loadImgs(imgIds)\n",
    "\n",
    "for im in images:\n",
    "    img_data = requests.get(im['coco_url']).content\n",
    "    with open('/home/asr/projects/mobile_net_IH/data/Bus' + im['file_name'], 'wb') as handler:\n",
    "        handler.write(img_data)"
   ]
  },
  {
   "cell_type": "code",
   "execution_count": null,
   "metadata": {
    "_cell_guid": "b1076dfc-b9ad-4769-8c92-a6c4dae69d19",
    "_uuid": "8f2839f25d086af736a60e9eeb907d3b93b6e0e5",
    "execution": {
     "iopub.execute_input": "2022-11-15T11:31:07.805170Z",
     "iopub.status.busy": "2022-11-15T11:31:07.804302Z",
     "iopub.status.idle": "2022-11-15T11:31:11.441819Z",
     "shell.execute_reply": "2022-11-15T11:31:11.440612Z",
     "shell.execute_reply.started": "2022-11-15T11:31:07.805088Z"
    },
    "id": "O6YtI9zKWVh8"
   },
   "outputs": [],
   "source": [
    "import torchvision\n",
    "import torch\n",
    "from torchvision import transforms\n",
    "import pandas as pd\n",
    "import numpy as np\n",
    "from sklearn.model_selection import train_test_split\n",
    "from sklearn.metrics import f1_score\n",
    "from zipfile import ZipFile\n",
    "import random\n",
    "import PIL\n",
    "import os\n",
    "from matplotlib import pyplot as plt\n",
    "from torch import nn"
   ]
  },
  {
   "cell_type": "markdown",
   "metadata": {
    "id": "515qKYLiWVh9"
   },
   "source": [
    "SEED EVERYTHING"
   ]
  },
  {
   "cell_type": "code",
   "execution_count": null,
   "metadata": {
    "execution": {
     "iopub.execute_input": "2022-11-15T11:31:24.241814Z",
     "iopub.status.busy": "2022-11-15T11:31:24.241188Z",
     "iopub.status.idle": "2022-11-15T11:31:24.259678Z",
     "shell.execute_reply": "2022-11-15T11:31:24.258477Z",
     "shell.execute_reply.started": "2022-11-15T11:31:24.241772Z"
    },
    "id": "jIizxdt9WVh-"
   },
   "outputs": [],
   "source": [
    "torch.manual_seed(42)\n",
    "np.random.seed(42)\n",
    "random.seed(42)\n",
    "os.environ['PYTHONHASHSEED'] = str(42)\n",
    "torch.backends.cuda.matmul.allow_tf32 = True # for better mutrix multiplication"
   ]
  },
  {
   "cell_type": "markdown",
   "metadata": {
    "id": "PYK1ICtMWVh-"
   },
   "source": [
    "LOAD DATA"
   ]
  },
  {
   "cell_type": "code",
   "execution_count": null,
   "metadata": {
    "execution": {
     "iopub.execute_input": "2022-11-15T11:31:25.910314Z",
     "iopub.status.busy": "2022-11-15T11:31:25.909346Z",
     "iopub.status.idle": "2022-11-15T11:31:26.027758Z",
     "shell.execute_reply": "2022-11-15T11:31:26.026491Z",
     "shell.execute_reply.started": "2022-11-15T11:31:25.910277Z"
    },
    "id": "-qWBFoRGWVh-"
   },
   "outputs": [],
   "source": [
    "input_dir = 'data'\n",
    "batch_size = 64\n",
    "rescale_size = 224\n",
    "device = torch.device('cuda') if torch.cuda.is_available() else torch.device('cpu')"
   ]
  },
  {
   "cell_type": "code",
   "execution_count": null,
   "metadata": {
    "colab": {
     "base_uri": "https://localhost:8080/"
    },
    "execution": {
     "iopub.execute_input": "2022-11-15T11:31:27.167556Z",
     "iopub.status.busy": "2022-11-15T11:31:27.166828Z",
     "iopub.status.idle": "2022-11-15T11:31:27.176426Z",
     "shell.execute_reply": "2022-11-15T11:31:27.175368Z",
     "shell.execute_reply.started": "2022-11-15T11:31:27.167511Z"
    },
    "id": "Ni0aRJPdWVh-",
    "outputId": "c354f858-380f-4b11-fb8c-d9a7c624f7cf"
   },
   "outputs": [
    {
     "data": {
      "text/plain": [
       "device(type='cuda')"
      ]
     },
     "execution_count": 5,
     "metadata": {},
     "output_type": "execute_result"
    }
   ],
   "source": [
    "device"
   ]
  },
  {
   "cell_type": "markdown",
   "metadata": {
    "id": "Be_eOj8WWVh_"
   },
   "source": [
    "Convert the image to a 255 x 255 image and normalize by mean and standard deviation from ImageNet"
   ]
  },
  {
   "cell_type": "code",
   "execution_count": null,
   "metadata": {
    "execution": {
     "iopub.execute_input": "2022-11-15T11:31:27.548924Z",
     "iopub.status.busy": "2022-11-15T11:31:27.548265Z",
     "iopub.status.idle": "2022-11-15T11:31:27.554640Z",
     "shell.execute_reply": "2022-11-15T11:31:27.553478Z",
     "shell.execute_reply.started": "2022-11-15T11:31:27.548890Z"
    },
    "id": "rabKNBxuWVh_"
   },
   "outputs": [],
   "source": [
    "transform = transforms.Compose([\n",
    "    transforms.Resize((int(rescale_size * 1.25), int(rescale_size * 1.25))),\n",
    "    transforms.RandomCrop(rescale_size),\n",
    "    transforms.RandomHorizontalFlip(),\n",
    "    transforms.GaussianBlur(kernel_size=(5, 9), sigma=(0.1, 5)),\n",
    "    transforms.RandomPerspective(distortion_scale=0.5, p=0.8),\n",
    "    transforms.ToTensor(),\n",
    "    transforms.Normalize([0.485, 0.456, 0.406], [0.229, 0.224, 0.225])\n",
    "])"
   ]
  },
  {
   "cell_type": "code",
   "execution_count": null,
   "metadata": {
    "colab": {
     "base_uri": "https://localhost:8080/"
    },
    "execution": {
     "iopub.execute_input": "2022-11-15T11:31:27.912689Z",
     "iopub.status.busy": "2022-11-15T11:31:27.910765Z",
     "iopub.status.idle": "2022-11-15T11:31:35.858032Z",
     "shell.execute_reply": "2022-11-15T11:31:35.856834Z",
     "shell.execute_reply.started": "2022-11-15T11:31:27.912647Z"
    },
    "id": "12SJlxGCWVh_",
    "outputId": "6d02ebf9-eeec-40b1-aace-a597b6a4336f"
   },
   "outputs": [
    {
     "name": "stdout",
     "output_type": "stream",
     "text": [
      "classes: ['CS120.01.413' 'CS120.07.442' 'CS150.01.427-01' 'SU160.00.404'\n",
      " 'SU80.01.426' 'SU80.10.409A' 'ЗВТ86.103К-02' 'СВМ.37.060' 'СВМ.37.060А'\n",
      " 'СВП-120.00.060' 'СВП120.42.020' 'СВП120.42.030' 'СК20.01.01.01.406'\n",
      " 'СК20.01.01.02.402' 'СК30.01.01.02.402' 'СК30.01.01.03.403'\n",
      " 'СК50.01.01.404' 'СК50.02.01.411' 'СПО250.14.190'] \n",
      "size {'train': 577, 'valid': 79}\n"
     ]
    }
   ],
   "source": [
    "dataset_full = torchvision.datasets.ImageFolder(root=input_dir, transform=transform)\n",
    "\n",
    "# split full dataset\n",
    "train_idx, valid_idx = train_test_split(list(range(len(dataset_full))), train_size=0.88)\n",
    "dataset = {\n",
    "    'train': torch.utils.data.Subset(dataset_full, train_idx),\n",
    "    'valid': torch.utils.data.Subset(dataset_full, valid_idx)\n",
    "}\n",
    "\n",
    "dataset_size = {ds: len(dataset[ds]) for ds in ['train', 'valid']}\n",
    "dataset_classes = np.array(dataset_full.classes)\n",
    "print('classes:', dataset_classes, '\\nsize', dataset_size)\n",
    "\n",
    "dataloader = {\n",
    "    'train': torch.utils.data.DataLoader(\n",
    "        dataset=dataset['train'], batch_size=batch_size, shuffle=True, num_workers=2\n",
    "    ),\n",
    "    'valid': torch.utils.data.DataLoader(\n",
    "        dataset=dataset['valid'], batch_size=batch_size, shuffle=False, num_workers=2\n",
    "    ),\n",
    "}"
   ]
  },
  {
   "cell_type": "code",
   "execution_count": null,
   "metadata": {
    "colab": {
     "base_uri": "https://localhost:8080/"
    },
    "execution": {
     "iopub.execute_input": "2022-11-15T11:31:36.083107Z",
     "iopub.status.busy": "2022-11-15T11:31:36.082473Z",
     "iopub.status.idle": "2022-11-15T11:31:36.089756Z",
     "shell.execute_reply": "2022-11-15T11:31:36.088687Z",
     "shell.execute_reply.started": "2022-11-15T11:31:36.083071Z"
    },
    "id": "UnveyZtvWViA",
    "outputId": "802bdbe4-32c7-4dd1-e430-ead59edbe865"
   },
   "outputs": [
    {
     "data": {
      "text/plain": [
       "19"
      ]
     },
     "execution_count": 8,
     "metadata": {},
     "output_type": "execute_result"
    }
   ],
   "source": [
    "num_classes = len(dataset_classes)\n",
    "num_classes"
   ]
  },
  {
   "cell_type": "markdown",
   "metadata": {
    "id": "NtJbSrdsWViA"
   },
   "source": [
    "TRAINING LOOP"
   ]
  },
  {
   "cell_type": "code",
   "execution_count": null,
   "metadata": {
    "execution": {
     "iopub.execute_input": "2022-11-15T11:31:36.093282Z",
     "iopub.status.busy": "2022-11-15T11:31:36.092878Z",
     "iopub.status.idle": "2022-11-15T11:31:36.100805Z",
     "shell.execute_reply": "2022-11-15T11:31:36.099634Z",
     "shell.execute_reply.started": "2022-11-15T11:31:36.093256Z"
    },
    "id": "UyPmApx_WViA"
   },
   "outputs": [],
   "source": [
    "from torch.cuda.amp import autocast, GradScaler\n",
    "import tqdm\n",
    "# from accelerate import Accelerator\n",
    "scaler = GradScaler()\n",
    "# accelerator = Accelerator(gradient_accumulation_steps=4, mixed_precision='fp16')\n",
    "\n",
    "def train_epoch(\n",
    "    model: torch.nn.Module,\n",
    "    optimizer: torch.optim,\n",
    "    criterion: torch.nn.modules.loss._Loss,\n",
    "    loader: torch.utils.data.DataLoader,\n",
    "    device: torch.device\n",
    "):\n",
    "    acc_loss = 0\n",
    "    total = len(loader.dataset)\n",
    "    # model.to(device)\n",
    "    model.train()\n",
    "    for data, target in tqdm.tqdm(loader):\n",
    "      # with accelerator.accumulate(model): # для имитации большого размера батча (полезно для трансформеров)\n",
    "        data = data.to(device)\n",
    "        target = target.to(device)\n",
    "        pred = model(data)\n",
    "        # print(target)\n",
    "        loss = criterion(pred, target)\n",
    "        # scaler.scale(loss).backward()\n",
    "        # scaler.unscale_(optimizer)\n",
    "        # scaler.step(optimizer)\n",
    "        loss.backward()\n",
    "        # accelerator.backward(loss) # вместо loss.backward()\n",
    "        optimizer.step()\n",
    "        optimizer.zero_grad()\n",
    "        acc_loss += loss.item()\n",
    "    return acc_loss / total\n"
   ]
  },
  {
   "cell_type": "code",
   "execution_count": null,
   "metadata": {
    "execution": {
     "iopub.execute_input": "2022-11-15T11:31:36.102901Z",
     "iopub.status.busy": "2022-11-15T11:31:36.102265Z",
     "iopub.status.idle": "2022-11-15T11:31:36.116174Z",
     "shell.execute_reply": "2022-11-15T11:31:36.115285Z",
     "shell.execute_reply.started": "2022-11-15T11:31:36.102867Z"
    },
    "id": "3IG5F_EaWViB"
   },
   "outputs": [],
   "source": [
    "from collections import namedtuple\n",
    "from typing import NamedTuple, List"
   ]
  },
  {
   "cell_type": "code",
   "execution_count": null,
   "metadata": {
    "id": "Ti-VebHwLOD3"
   },
   "outputs": [],
   "source": [
    "def get_lr(optimizer):\n",
    "    for param_group in optimizer.param_groups:\n",
    "        return param_group['lr']"
   ]
  },
  {
   "cell_type": "code",
   "execution_count": null,
   "metadata": {
    "execution": {
     "iopub.execute_input": "2022-11-15T11:31:36.118280Z",
     "iopub.status.busy": "2022-11-15T11:31:36.117660Z",
     "iopub.status.idle": "2022-11-15T11:31:36.128997Z",
     "shell.execute_reply": "2022-11-15T11:31:36.128134Z",
     "shell.execute_reply.started": "2022-11-15T11:31:36.118187Z"
    },
    "id": "zGqiQVGKWViB"
   },
   "outputs": [],
   "source": [
    "from collections import namedtuple\n",
    "from typing import NamedTuple, List\n",
    "\n",
    "EvalOut = namedtuple(\"EvalOut\", ['loss', 'accuracy'])\n",
    "\n",
    "\n",
    "def eval_epoch(\n",
    "    model: torch.nn.Module,\n",
    "    criterion: torch.nn.modules.loss._Loss,\n",
    "    loader: torch.utils.data.DataLoader,\n",
    "    device: torch.device\n",
    "):\n",
    "    acc_loss = 0\n",
    "    accuracy = 0\n",
    "    total = len(loader.dataset)\n",
    "    model.eval()\n",
    "    # model.to(device)\n",
    "    with torch.inference_mode():\n",
    "        for data, target in loader:\n",
    "            data = data.to(device)\n",
    "            target = target.to(device)\n",
    "            pred = model(data)\n",
    "            loss = criterion(pred, target)\n",
    "            acc_loss += loss.item()\n",
    "            accuracy += torch.sum(torch.argmax(pred, 1) == target).item()\n",
    "\n",
    "    return EvalOut(loss = (acc_loss / total), accuracy = (accuracy / total))\n",
    "\n",
    "\n",
    "class TrainOut(NamedTuple):\n",
    "    train_loss: List[float]\n",
    "    eval_loss: List[float]\n",
    "    eval_accuracy: List[float]\n",
    "\n",
    "\n",
    "def train(\n",
    "    model: torch.nn.Module,\n",
    "    optimizer: torch.optim,\n",
    "    criterion: torch.nn.modules.loss._Loss,\n",
    "    sheduler: torch.nn.Module,\n",
    "    train_loader: torch.utils.data.DataLoader,\n",
    "    val_loader: torch.utils.data.DataLoader,\n",
    "    device: torch.device,\n",
    "    epochs: int = 10\n",
    "):\n",
    "    train_loss = []\n",
    "    eval_loss = []\n",
    "    eval_accuracy = []\n",
    "    model.to(device)\n",
    "    for i in range(epochs):\n",
    "        print(f\"Epoch - {i}\\n\")\n",
    "        if (train_loader != None):\n",
    "            print(\"Train...\\n\")\n",
    "            train_loss.append(train_epoch(model, optimizer, criterion, train_loader, device))\n",
    "        print(\"Validation...\\n\")\n",
    "        eval_out = eval_epoch(model, criterion, val_loader, device)\n",
    "        eval_loss.append(eval_out.loss)\n",
    "        eval_accuracy.append(eval_out.accuracy)\n",
    "        print(f'Validation acc: {eval_out.accuracy}')\n",
    "        sheduler.step()\n",
    "        print('lr: ', get_lr(optimizer))\n",
    "        if i > 1 and eval_accuracy[i] == max(eval_accuracy):\n",
    "        # unwrapped_model = accelerator.unwrap_model(model)\n",
    "        # accelerator.save({\n",
    "          #    \"model\": model.state_dict(),\n",
    "            # \"optimizer\": optimizer.optimizer.state_dict() # optimizer is an AcceleratedOptimizer object\n",
    "          # }, \"/content/drive/MyDrive/accel.pth\")\n",
    "\n",
    "          torch.save({\n",
    "          'model_state_dict': model.state_dict(),\n",
    "          'optimizer_state_dict': optimizer.state_dict(),\n",
    "          }, f'detail_checkpoint_{i}_mobilt.pth')\n",
    "\n",
    "    return TrainOut(train_loss = train_loss,\n",
    "                    eval_loss = eval_loss,\n",
    "                    eval_accuracy = eval_accuracy), model\n"
   ]
  },
  {
   "cell_type": "markdown",
   "metadata": {
    "id": "YwaQNh3NWViB"
   },
   "source": [
    "SHOW LOSSES"
   ]
  },
  {
   "cell_type": "code",
   "execution_count": null,
   "metadata": {
    "execution": {
     "iopub.execute_input": "2022-11-15T11:31:36.144997Z",
     "iopub.status.busy": "2022-11-15T11:31:36.144300Z",
     "iopub.status.idle": "2022-11-15T11:31:36.156509Z",
     "shell.execute_reply": "2022-11-15T11:31:36.155546Z",
     "shell.execute_reply.started": "2022-11-15T11:31:36.144956Z"
    },
    "id": "lWIA-bD2WViB"
   },
   "outputs": [],
   "source": [
    "def show_losses(TrainOut, epochs):\n",
    "    plt.plot(epochs, TrainOut.train_loss)\n",
    "    plt.plot(epochs, TrainOut.eval_loss)\n",
    "    plt.show()\n",
    "\n",
    "def show_accuracy(accuracy, epochs):\n",
    "    plt.plot(epochs, accuracy)\n",
    "    plt.show()"
   ]
  },
  {
   "cell_type": "code",
   "execution_count": null,
   "metadata": {
    "execution": {
     "iopub.execute_input": "2022-11-15T11:31:36.158802Z",
     "iopub.status.busy": "2022-11-15T11:31:36.158179Z",
     "iopub.status.idle": "2022-11-15T11:31:36.168076Z",
     "shell.execute_reply": "2022-11-15T11:31:36.167080Z",
     "shell.execute_reply.started": "2022-11-15T11:31:36.158768Z"
    },
    "id": "1k8_Niv7WViB"
   },
   "outputs": [],
   "source": [
    "def predict(model, dataloader_test):\n",
    "    logits = []\n",
    "    model.eval()\n",
    "    with torch.no_grad():\n",
    "        for inputs, _ in dataloader_test:\n",
    "            inputs = inputs.to(device)\n",
    "            outputs = model(inputs).cpu()\n",
    "            logits.append(outputs)\n",
    "    probs = torch.nn.functional.softmax(torch.cat(logits), dim=-1).numpy()\n",
    "    return probs"
   ]
  },
  {
   "cell_type": "markdown",
   "metadata": {
    "id": "ZTu-VIF0WViB"
   },
   "source": [
    "DEFINE MODEL"
   ]
  },
  {
   "cell_type": "code",
   "execution_count": null,
   "metadata": {
    "colab": {
     "base_uri": "https://localhost:8080/"
    },
    "id": "He5DYJ0xO8Go",
    "outputId": "4693119f-b72d-4d50-deba-69611a5fb5e2"
   },
   "outputs": [
    {
     "name": "stderr",
     "output_type": "stream",
     "text": [
      "Downloading: \"https://download.pytorch.org/models/mobilenet_v2-7ebf99e0.pth\" to /root/.cache/torch/hub/checkpoints/mobilenet_v2-7ebf99e0.pth\n",
      "100%|██████████| 13.6M/13.6M [00:00<00:00, 39.2MB/s]\n"
     ]
    }
   ],
   "source": [
    "import torchvision.transforms as T\n",
    "from torchvision.models import mobilenet_v3\n",
    "mobilenet = mobilenet_v3(weights='IMAGENET1K_V2')\n",
    "\n",
    "mobilenet = mobilenet_v3(weights='IMAGENET1K_V2')\n",
    "\n",
    "for param in self.mobilenet.parameters():\n",
    "    param.requires_grad = False\n",
    "\n",
    "for j in range(5, 19):\n",
    "\n",
    "    for param in self.mobilenet.features[j].parameters():\n",
    "        param.requires_grad = True\n",
    "\n",
    "for param in self.mobilenet.classifier.parameters():\n",
    "    param.requires_grad = True\n",
    "\n",
    "mobilenet.classifier[1] = torch.nn.Linear(1280, 2)\n",
    "\n",
    "\n",
    "def forward(self, x: torch.Tensor) -> torch.Tensor:\n",
    "    y = self.mobilenet(x)\n",
    "    return y"
   ]
  },
  {
   "cell_type": "code",
   "execution_count": null,
   "metadata": {
    "execution": {
     "iopub.execute_input": "2022-11-15T07:33:24.918430Z",
     "iopub.status.busy": "2022-11-15T07:33:24.917424Z",
     "iopub.status.idle": "2022-11-15T07:33:27.670080Z",
     "shell.execute_reply": "2022-11-15T07:33:27.669108Z",
     "shell.execute_reply.started": "2022-11-15T07:33:24.918387Z"
    },
    "id": "XFhvlvuxWViC"
   },
   "outputs": [],
   "source": [
    "model = mobilenet()"
   ]
  },
  {
   "cell_type": "code",
   "execution_count": null,
   "metadata": {
    "colab": {
     "base_uri": "https://localhost:8080/"
    },
    "execution": {
     "iopub.execute_input": "2022-11-15T07:33:28.946842Z",
     "iopub.status.busy": "2022-11-15T07:33:28.946410Z",
     "iopub.status.idle": "2022-11-15T07:56:43.541408Z",
     "shell.execute_reply": "2022-11-15T07:56:43.540125Z",
     "shell.execute_reply.started": "2022-11-15T07:33:28.946804Z"
    },
    "id": "LOXa6th_WViC",
    "outputId": "351f6686-7f42-4b12-aee0-3ce12a354c7d"
   },
   "outputs": [
    {
     "metadata": {
      "tags": null
     },
     "name": "stdout",
     "output_type": "stream",
     "text": [
      "Epoch - 0\n",
      "\n",
      "Train...\n",
      "\n"
     ]
    },
    {
     "metadata": {
      "tags": null
     },
     "name": "stderr",
     "output_type": "stream",
     "text": [
      "  0%|          | 0/10 [00:00<?, ?it/s]/usr/local/lib/python3.10/dist-packages/torchvision/transforms/functional.py:1603: UserWarning: The default value of the antialias parameter of all the resizing transforms (Resize(), RandomResizedCrop(), etc.) will change from None to True in v0.17, in order to be consistent across the PIL and Tensor backends. To suppress this warning, directly pass antialias=True (recommended, future default), antialias=None (current default, which means False for Tensors and True for PIL), or antialias=False (only works on Tensors - PIL will still use antialiasing). This also applies if you are using the inference transforms from the models weights: update the call to weights.transforms(antialias=True).\n",
      "  warnings.warn(\n",
      "100%|██████████| 10/10 [03:33<00:00, 21.35s/it]"
     ]
    },
    {
     "metadata": {
      "tags": null
     },
     "name": "stdout",
     "output_type": "stream",
     "text": [
      "Validation...\n",
      "\n"
     ]
    },
    {
     "metadata": {
      "tags": null
     },
     "name": "stderr",
     "output_type": "stream",
     "text": [
      "\n"
     ]
    },
    {
     "metadata": {
      "tags": null
     },
     "name": "stdout",
     "output_type": "stream",
     "text": [
      "Validation acc: 0.5316455696202531\n",
      "lr:  0.00099\n",
      "Epoch - 1\n",
      "\n",
      "Train...\n",
      "\n"
     ]
    },
    {
     "metadata": {
      "tags": null
     },
     "name": "stderr",
     "output_type": "stream",
     "text": [
      "100%|██████████| 10/10 [01:44<00:00, 10.46s/it]"
     ]
    },
    {
     "metadata": {
      "tags": null
     },
     "name": "stdout",
     "output_type": "stream",
     "text": [
      "Validation...\n",
      "\n"
     ]
    },
    {
     "metadata": {
      "tags": null
     },
     "name": "stderr",
     "output_type": "stream",
     "text": [
      "\n"
     ]
    },
    {
     "metadata": {
      "tags": null
     },
     "name": "stdout",
     "output_type": "stream",
     "text": [
      "Validation acc: 0.6835443037974683\n",
      "lr:  0.0009801\n",
      "Epoch - 2\n",
      "\n",
      "Train...\n",
      "\n"
     ]
    },
    {
     "metadata": {
      "tags": null
     },
     "name": "stderr",
     "output_type": "stream",
     "text": [
      "100%|██████████| 10/10 [01:45<00:00, 10.55s/it]"
     ]
    },
    {
     "metadata": {
      "tags": null
     },
     "name": "stdout",
     "output_type": "stream",
     "text": [
      "Validation...\n",
      "\n"
     ]
    },
    {
     "metadata": {
      "tags": null
     },
     "name": "stderr",
     "output_type": "stream",
     "text": [
      "\n"
     ]
    },
    {
     "metadata": {
      "tags": null
     },
     "name": "stdout",
     "output_type": "stream",
     "text": [
      "Validation acc: 0.7721518987341772\n",
      "lr:  0.000970299\n",
      "Epoch - 3\n",
      "\n",
      "Train...\n",
      "\n"
     ]
    },
    {
     "metadata": {
      "tags": null
     },
     "name": "stderr",
     "output_type": "stream",
     "text": [
      "100%|██████████| 10/10 [01:47<00:00, 10.71s/it]"
     ]
    },
    {
     "metadata": {
      "tags": null
     },
     "name": "stdout",
     "output_type": "stream",
     "text": [
      "Validation...\n",
      "\n"
     ]
    },
    {
     "metadata": {
      "tags": null
     },
     "name": "stderr",
     "output_type": "stream",
     "text": [
      "\n"
     ]
    },
    {
     "metadata": {
      "tags": null
     },
     "name": "stdout",
     "output_type": "stream",
     "text": [
      "Validation acc: 0.8227848101265823\n",
      "lr:  0.0009605960099999999\n",
      "Epoch - 4\n",
      "\n",
      "Train...\n",
      "\n"
     ]
    },
    {
     "metadata": {
      "tags": null
     },
     "name": "stderr",
     "output_type": "stream",
     "text": [
      "100%|██████████| 10/10 [01:46<00:00, 10.63s/it]"
     ]
    },
    {
     "metadata": {
      "tags": null
     },
     "name": "stdout",
     "output_type": "stream",
     "text": [
      "Validation...\n",
      "\n"
     ]
    },
    {
     "metadata": {
      "tags": null
     },
     "name": "stderr",
     "output_type": "stream",
     "text": [
      "\n"
     ]
    },
    {
     "metadata": {
      "tags": null
     },
     "name": "stdout",
     "output_type": "stream",
     "text": [
      "Validation acc: 0.7341772151898734\n",
      "lr:  0.0009509900498999999\n",
      "Epoch - 5\n",
      "\n",
      "Train...\n",
      "\n"
     ]
    },
    {
     "metadata": {
      "tags": null
     },
     "name": "stderr",
     "output_type": "stream",
     "text": [
      "100%|██████████| 10/10 [01:46<00:00, 10.67s/it]"
     ]
    },
    {
     "metadata": {
      "tags": null
     },
     "name": "stdout",
     "output_type": "stream",
     "text": [
      "Validation...\n",
      "\n"
     ]
    },
    {
     "metadata": {
      "tags": null
     },
     "name": "stderr",
     "output_type": "stream",
     "text": [
      "\n"
     ]
    },
    {
     "metadata": {
      "tags": null
     },
     "name": "stdout",
     "output_type": "stream",
     "text": [
      "Validation acc: 0.810126582278481\n",
      "lr:  0.0009414801494009999\n",
      "Epoch - 6\n",
      "\n",
      "Train...\n",
      "\n"
     ]
    },
    {
     "name": "stderr",
     "output_type": "stream",
     "text": [
      "100%|██████████| 10/10 [01:42<00:00, 10.25s/it]"
     ]
    },
    {
     "name": "stdout",
     "output_type": "stream",
     "text": [
      "Validation...\n",
      "\n"
     ]
    },
    {
     "name": "stderr",
     "output_type": "stream",
     "text": [
      "\n"
     ]
    },
    {
     "name": "stdout",
     "output_type": "stream",
     "text": [
      "Validation acc: 0.8607594936708861\n",
      "lr:  0.0009320653479069899\n",
      "Epoch - 7\n",
      "\n",
      "Train...\n",
      "\n"
     ]
    },
    {
     "name": "stderr",
     "output_type": "stream",
     "text": [
      "100%|██████████| 10/10 [01:41<00:00, 10.10s/it]"
     ]
    },
    {
     "name": "stdout",
     "output_type": "stream",
     "text": [
      "Validation...\n",
      "\n"
     ]
    },
    {
     "name": "stderr",
     "output_type": "stream",
     "text": [
      "\n"
     ]
    },
    {
     "name": "stdout",
     "output_type": "stream",
     "text": [
      "Validation acc: 0.8354430379746836\n",
      "lr:  0.00092274469442792\n",
      "Epoch - 8\n",
      "\n",
      "Train...\n",
      "\n"
     ]
    },
    {
     "name": "stderr",
     "output_type": "stream",
     "text": [
      "100%|██████████| 10/10 [01:42<00:00, 10.25s/it]"
     ]
    },
    {
     "name": "stdout",
     "output_type": "stream",
     "text": [
      "Validation...\n",
      "\n"
     ]
    },
    {
     "name": "stderr",
     "output_type": "stream",
     "text": [
      "\n"
     ]
    },
    {
     "name": "stdout",
     "output_type": "stream",
     "text": [
      "Validation acc: 0.8607594936708861\n",
      "lr:  0.0009135172474836408\n",
      "Epoch - 9\n",
      "\n",
      "Train...\n",
      "\n"
     ]
    },
    {
     "name": "stderr",
     "output_type": "stream",
     "text": [
      "100%|██████████| 10/10 [01:42<00:00, 10.26s/it]"
     ]
    },
    {
     "name": "stdout",
     "output_type": "stream",
     "text": [
      "Validation...\n",
      "\n"
     ]
    },
    {
     "name": "stderr",
     "output_type": "stream",
     "text": [
      "\n"
     ]
    },
    {
     "name": "stdout",
     "output_type": "stream",
     "text": [
      "Validation acc: 0.8607594936708861\n",
      "lr:  0.0009043820750088043\n",
      "Epoch - 10\n",
      "\n",
      "Train...\n",
      "\n"
     ]
    },
    {
     "name": "stderr",
     "output_type": "stream",
     "text": [
      "100%|██████████| 10/10 [01:44<00:00, 10.48s/it]"
     ]
    },
    {
     "name": "stdout",
     "output_type": "stream",
     "text": [
      "Validation...\n",
      "\n"
     ]
    },
    {
     "name": "stderr",
     "output_type": "stream",
     "text": [
      "\n"
     ]
    },
    {
     "name": "stdout",
     "output_type": "stream",
     "text": [
      "Validation acc: 0.8734177215189873\n",
      "lr:  0.0008953382542587163\n",
      "Epoch - 11\n",
      "\n",
      "Train...\n",
      "\n"
     ]
    },
    {
     "name": "stderr",
     "output_type": "stream",
     "text": [
      "100%|██████████| 10/10 [01:40<00:00, 10.01s/it]"
     ]
    },
    {
     "name": "stdout",
     "output_type": "stream",
     "text": [
      "Validation...\n",
      "\n"
     ]
    },
    {
     "name": "stderr",
     "output_type": "stream",
     "text": [
      "\n"
     ]
    },
    {
     "name": "stdout",
     "output_type": "stream",
     "text": [
      "Validation acc: 0.8860759493670886\n",
      "lr:  0.0008863848717161291\n",
      "Epoch - 12\n",
      "\n",
      "Train...\n",
      "\n"
     ]
    },
    {
     "name": "stderr",
     "output_type": "stream",
     "text": [
      "100%|██████████| 10/10 [01:39<00:00,  9.99s/it]"
     ]
    },
    {
     "name": "stdout",
     "output_type": "stream",
     "text": [
      "Validation...\n",
      "\n"
     ]
    },
    {
     "name": "stderr",
     "output_type": "stream",
     "text": [
      "\n"
     ]
    },
    {
     "name": "stdout",
     "output_type": "stream",
     "text": [
      "Validation acc: 0.8481012658227848\n",
      "lr:  0.0008775210229989678\n",
      "Epoch - 13\n",
      "\n",
      "Train...\n",
      "\n"
     ]
    },
    {
     "name": "stderr",
     "output_type": "stream",
     "text": [
      "100%|██████████| 10/10 [01:41<00:00, 10.17s/it]"
     ]
    },
    {
     "name": "stdout",
     "output_type": "stream",
     "text": [
      "Validation...\n",
      "\n"
     ]
    },
    {
     "name": "stderr",
     "output_type": "stream",
     "text": [
      "\n"
     ]
    },
    {
     "name": "stdout",
     "output_type": "stream",
     "text": [
      "Validation acc: 0.8354430379746836\n",
      "lr:  0.0008687458127689781\n",
      "Epoch - 14\n",
      "\n",
      "Train...\n",
      "\n"
     ]
    },
    {
     "name": "stderr",
     "output_type": "stream",
     "text": [
      "100%|██████████| 10/10 [01:41<00:00, 10.19s/it]"
     ]
    },
    {
     "name": "stdout",
     "output_type": "stream",
     "text": [
      "Validation...\n",
      "\n"
     ]
    },
    {
     "name": "stderr",
     "output_type": "stream",
     "text": [
      "\n"
     ]
    },
    {
     "name": "stdout",
     "output_type": "stream",
     "text": [
      "Validation acc: 0.8607594936708861\n",
      "lr:  0.0008600583546412883\n",
      "Epoch - 15\n",
      "\n",
      "Train...\n",
      "\n"
     ]
    },
    {
     "name": "stderr",
     "output_type": "stream",
     "text": [
      "100%|██████████| 10/10 [01:41<00:00, 10.10s/it]"
     ]
    },
    {
     "name": "stdout",
     "output_type": "stream",
     "text": [
      "Validation...\n",
      "\n"
     ]
    },
    {
     "name": "stderr",
     "output_type": "stream",
     "text": [
      "\n"
     ]
    },
    {
     "name": "stdout",
     "output_type": "stream",
     "text": [
      "Validation acc: 0.9240506329113924\n",
      "lr:  0.0008514577710948754\n",
      "Epoch - 16\n",
      "\n",
      "Train...\n",
      "\n"
     ]
    },
    {
     "name": "stderr",
     "output_type": "stream",
     "text": [
      "100%|██████████| 10/10 [01:41<00:00, 10.13s/it]"
     ]
    },
    {
     "name": "stdout",
     "output_type": "stream",
     "text": [
      "Validation...\n",
      "\n"
     ]
    },
    {
     "name": "stderr",
     "output_type": "stream",
     "text": [
      "\n"
     ]
    },
    {
     "name": "stdout",
     "output_type": "stream",
     "text": [
      "Validation acc: 0.8860759493670886\n",
      "lr:  0.0008429431933839266\n",
      "Epoch - 17\n",
      "\n",
      "Train...\n",
      "\n"
     ]
    },
    {
     "name": "stderr",
     "output_type": "stream",
     "text": [
      "100%|██████████| 10/10 [01:41<00:00, 10.18s/it]"
     ]
    },
    {
     "name": "stdout",
     "output_type": "stream",
     "text": [
      "Validation...\n",
      "\n"
     ]
    },
    {
     "name": "stderr",
     "output_type": "stream",
     "text": [
      "\n"
     ]
    },
    {
     "name": "stdout",
     "output_type": "stream",
     "text": [
      "Validation acc: 0.8481012658227848\n",
      "lr:  0.0008345137614500873\n",
      "Epoch - 18\n",
      "\n",
      "Train...\n",
      "\n"
     ]
    },
    {
     "name": "stderr",
     "output_type": "stream",
     "text": [
      "100%|██████████| 10/10 [01:41<00:00, 10.14s/it]"
     ]
    },
    {
     "name": "stdout",
     "output_type": "stream",
     "text": [
      "Validation...\n",
      "\n"
     ]
    },
    {
     "name": "stderr",
     "output_type": "stream",
     "text": [
      "\n"
     ]
    },
    {
     "name": "stdout",
     "output_type": "stream",
     "text": [
      "Validation acc: 0.8481012658227848\n",
      "lr:  0.0008261686238355864\n",
      "Epoch - 19\n",
      "\n",
      "Train...\n",
      "\n"
     ]
    },
    {
     "name": "stderr",
     "output_type": "stream",
     "text": [
      "100%|██████████| 10/10 [01:41<00:00, 10.16s/it]"
     ]
    },
    {
     "name": "stdout",
     "output_type": "stream",
     "text": [
      "Validation...\n",
      "\n"
     ]
    },
    {
     "name": "stderr",
     "output_type": "stream",
     "text": [
      "\n"
     ]
    },
    {
     "name": "stdout",
     "output_type": "stream",
     "text": [
      "Validation acc: 0.8481012658227848\n",
      "lr:  0.0008179069375972306\n",
      "Epoch - 20\n",
      "\n",
      "Train...\n",
      "\n"
     ]
    },
    {
     "name": "stderr",
     "output_type": "stream",
     "text": [
      " 20%|██        | 2/10 [00:23<01:16,  9.57s/it]"
     ]
    }
   ],
   "source": [
    "criterion = torch.nn.CrossEntropyLoss()\n",
    "optimizer = torch.optim.Adam(model.parameters(), lr=1e-3, weight_decay=1e-4)\n",
    "sheduler = torch.optim.lr_scheduler.ExponentialLR(optimizer, gamma=0.99)\n",
    "epochs = 60\n",
    "tr_tuple, model = train(model, optimizer, criterion, sheduler, dataloader['train'], dataloader['valid'], device, epochs)"
   ]
  },
  {
   "cell_type": "code",
   "execution_count": null,
   "metadata": {
    "execution": {
     "iopub.execute_input": "2022-11-15T07:57:48.651006Z",
     "iopub.status.busy": "2022-11-15T07:57:48.650636Z",
     "iopub.status.idle": "2022-11-15T07:57:49.008092Z",
     "shell.execute_reply": "2022-11-15T07:57:49.007118Z",
     "shell.execute_reply.started": "2022-11-15T07:57:48.650975Z"
    },
    "id": "BppEAbvmWViD"
   },
   "outputs": [],
   "source": [
    "show_losses(tr_tuple, list(range(epochs)))\n",
    "show_accuracy(tr_tuple.eval_accuracy, list(range(epochs)))"
   ]
  }
 ],
 "metadata": {
  "accelerator": "GPU",
  "celltoolbar": "Edit Metadata",
  "colab": {
   "gpuType": "T4",
   "provenance": []
  },
  "kernelspec": {
   "display_name": "asr",
   "language": "python",
   "name": "asr"
  },
  "language_info": {
   "codemirror_mode": {
    "name": "ipython",
    "version": 3
   },
   "file_extension": ".py",
   "mimetype": "text/x-python",
   "name": "python",
   "nbconvert_exporter": "python",
   "pygments_lexer": "ipython3",
   "version": "3.11.4"
  }
 },
 "nbformat": 4,
 "nbformat_minor": 4
}
